{
 "cells": [
  {
   "cell_type": "code",
   "execution_count": 2,
   "id": "eb60466d",
   "metadata": {},
   "outputs": [
    {
     "name": "stdout",
     "output_type": "stream",
     "text": [
      "The main components of an LLM-powered autonomous agent system are a language model (LLM), a memory component, a planning module, and a tool integration layer.\n"
     ]
    }
   ],
   "source": [
    "# Example RAG (Retrieval-Augmented Generation) workflow with Langchain and OpenAI\n",
    "\n",
    "import os\n",
    "from dotenv import load_dotenv\n",
    "load_dotenv()\n",
    "\n",
    "if not os.getenv(\"OPENAI_API_KEY\"):\n",
    "    raise ValueError(\"OPENAI_API_KEY not set in .env file. Please add it before running this notebook.\")\n",
    "\n",
    "from langchain_openai import ChatOpenAI, OpenAIEmbeddings\n",
    "from langchain_core.messages import SystemMessage, HumanMessage\n",
    "from langchain_community.vectorstores import FAISS\n",
    "from langchain_core.documents import Document\n",
    "\n",
    "# --- Setup a simple retriever for demonstration ---\n",
    "# In practice, you would build your vectorstore from your own data\n",
    "# Here, we use a dummy in-memory FAISS vectorstore for illustration\n",
    "\n",
    "# Example documents\n",
    "example_docs = [\n",
    "    Document(page_content=\"An LLM-powered agent system includes a language model, a memory component, a planning module, and a tool integration layer.\"),\n",
    "    Document(page_content=\"The main components are: LLM, memory, tools, and an orchestrator.\"),\n",
    "    Document(page_content=\"Autonomous agents use LLMs, memory, planning, and external tools.\")\n",
    "]\n",
    "\n",
    "# Create embeddings and vectorstore\n",
    "embeddings = OpenAIEmbeddings()\n",
    "vectorstore = FAISS.from_documents(example_docs, embeddings)\n",
    "retriever = vectorstore.as_retriever()\n",
    "\n",
    "# Define a system prompt that tells the model how to use the retrieved context\n",
    "system_prompt = \"\"\"You are an assistant for question-answering tasks. \\\n",
    "Use the following pieces of retrieved context to answer the question. \\\n",
    "If you don't know the answer, just say that you don't know. \\\n",
    "Use three sentences maximum and keep the answer concise.\\nContext: {context}\"\"\"\n",
    "\n",
    "# Define a question\n",
    "question = \"What are the main components of an LLM-powered autonomous agent system?\"\n",
    "\n",
    "# Retrieve relevant documents\n",
    "docs = retriever.invoke(question)\n",
    "\n",
    "# Combine the documents into a single string\n",
    "docs_text = \"\\n\".join(d.page_content for d in docs) if isinstance(docs, list) else docs.page_content\n",
    "\n",
    "# Populate the system prompt with the retrieved context\n",
    "system_prompt_fmt = system_prompt.format(context=docs_text)\n",
    "\n",
    "# Create a model\n",
    "model = ChatOpenAI(model=\"gpt-4o\", temperature=0)\n",
    "\n",
    "# Generate a response\n",
    "response = model.invoke([\n",
    "    SystemMessage(content=system_prompt_fmt),\n",
    "    HumanMessage(content=question)\n",
    "])\n",
    "\n",
    "print(response.content)"
   ]
  },
  {
   "cell_type": "markdown",
   "id": "9e5024de",
   "metadata": {},
   "source": [
    "## What is the `Document` structure in Langchain?\n",
    "\n",
    "The `Document` class in Langchain is a simple data structure used to represent a piece of text (the document) along with optional metadata.\n",
    "\n",
    "**Typical usage:**\n",
    "\n",
    "```python\n",
    "from langchain_core.documents import Document\n",
    "\n",
    "doc = Document(\n",
    "    page_content=\"This is the main text of the document.\",\n",
    "    metadata={\"source\": \"example\", \"author\": \"John Doe\"}  # metadata is optional\n",
    ")\n",
    "```\n",
    "\n",
    "- `page_content` (**str**, required): The main text content of the document.\n",
    "- `metadata` (**dict**, optional): Any additional information you want to associate with the document (e.g., source, author, tags).\n",
    "\n",
    "In this notebook, only the `page_content` field is used, which is sufficient for most retrieval and RAG workflows."
   ]
  }
 ],
 "metadata": {
  "kernelspec": {
   "display_name": "Python 3",
   "language": "python",
   "name": "python3"
  },
  "language_info": {
   "codemirror_mode": {
    "name": "ipython",
    "version": 3
   },
   "file_extension": ".py",
   "mimetype": "text/x-python",
   "name": "python",
   "nbconvert_exporter": "python",
   "pygments_lexer": "ipython3",
   "version": "3.13.0"
  }
 },
 "nbformat": 4,
 "nbformat_minor": 5
}
