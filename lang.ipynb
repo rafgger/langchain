{
 "cells": [
  {
   "cell_type": "code",
   "execution_count": 3,
   "id": "bac4afcf",
   "metadata": {},
   "outputs": [
    {
     "name": "stdout",
     "output_type": "stream",
     "text": [
      "1. What is an LLM and how does it function within an autonomous agent system?\n",
      "2. What are the key components of an autonomous agent system?\n",
      "3. How does an LLM integrate with other components of an autonomous agent system?\n",
      "4. What role does natural language processing play in an LLM-powered autonomous agent system?\n",
      "5. How do LLMs handle decision-making processes in autonomous agents?\n",
      "6. What are the input and output mechanisms for an LLM in an autonomous agent system?\n",
      "7. How is data processed and utilized by an LLM in an autonomous agent system?\n",
      "8. What are the challenges of using LLMs in autonomous agent systems?\n",
      "9. How do LLMs interact with external systems or environments in an autonomous agent system?\n",
      "10. What are the security considerations for LLM-powered autonomous agent systems?\n"
     ]
    }
   ],
   "source": [
    "# Load environment variables from .env file\n",
    "import os\n",
    "from dotenv import load_dotenv\n",
    "load_dotenv()  # This will load variables from .env into environment\n",
    "if not os.getenv(\"OPENAI_API_KEY\"):\n",
    "    raise ValueError(\"OPENAI_API_KEY not set in .env file.\")\n",
    "\n",
    "from typing import List\n",
    "from pydantic import BaseModel, Field\n",
    "from langchain_openai import ChatOpenAI\n",
    "from langchain_core.messages import SystemMessage, HumanMessage\n",
    "\n",
    "# Define a pydantic model to enforce the output structure\n",
    "class Questions(BaseModel):\n",
    "    questions: List[str] = Field(\n",
    "        description=\"A list of sub-questions related to the input query.\"\n",
    "    )\n",
    "\n",
    "# Create an instance of the model and enforce the output structure\n",
    "model = ChatOpenAI(model=\"gpt-4o\", temperature=0)\n",
    "structured_model = model.with_structured_output(Questions)\n",
    "\n",
    "# Define the system prompt\n",
    "system = \"\"\"You are a helpful assistant that generates multiple sub-questions related to an input question.\n",
    "The goal is to break down the input into a set of sub-problems / sub-questions that can be answered independently.\"\"\"\n",
    "\n",
    "# Pass the question to the model\n",
    "question = \"What are the main components of an LLM-powered autonomous agent system?\"\n",
    "result = structured_model.invoke([SystemMessage(content=system), HumanMessage(content=question)])\n",
    "\n",
    "# Access the list of sub-questions\n",
    "for idx, q in enumerate(result.questions, 1):\n",
    "    print(f\"{idx}. {q}\")"
   ]
  }
 ],
 "metadata": {
  "kernelspec": {
   "display_name": "Python 3",
   "language": "python",
   "name": "python3"
  },
  "language_info": {
   "codemirror_mode": {
    "name": "ipython",
    "version": 3
   },
   "file_extension": ".py",
   "mimetype": "text/x-python",
   "name": "python",
   "nbconvert_exporter": "python",
   "pygments_lexer": "ipython3",
   "version": "3.13.0"
  }
 },
 "nbformat": 4,
 "nbformat_minor": 5
}
